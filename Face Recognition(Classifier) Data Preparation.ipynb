{
 "cells": [
  {
   "cell_type": "code",
   "execution_count": 1,
   "metadata": {},
   "outputs": [],
   "source": [
    "import numpy as np\n",
    "import os"
   ]
  },
  {
   "cell_type": "code",
   "execution_count": 2,
   "metadata": {},
   "outputs": [],
   "source": [
    "dataset_path='./Data/'\n",
    "face_data=[]\n",
    "labels=[]\n",
    "names={}\n",
    "class_id=9"
   ]
  },
  {
   "cell_type": "markdown",
   "metadata": {},
   "source": [
    "### For Single file"
   ]
  },
  {
   "cell_type": "code",
   "execution_count": 3,
   "metadata": {},
   "outputs": [],
   "source": [
    "file=\"Sanchit.npy\""
   ]
  },
  {
   "cell_type": "code",
   "execution_count": 4,
   "metadata": {},
   "outputs": [
    {
     "data": {
      "text/plain": [
       "{9: 'Sanchit'}"
      ]
     },
     "execution_count": 4,
     "metadata": {},
     "output_type": "execute_result"
    }
   ],
   "source": [
    "names[class_id]=file[:-4]\n",
    "names"
   ]
  },
  {
   "cell_type": "code",
   "execution_count": 5,
   "metadata": {},
   "outputs": [
    {
     "name": "stdout",
     "output_type": "stream",
     "text": [
      "[[165 167 169 ... 114 116 119]\n",
      " [157 154 154 ... 119 117 112]\n",
      " [157 154 157 ...  42  64  78]\n",
      " ...\n",
      " [174 173 169 ...   1   1   2]\n",
      " [166 168 171 ...   9  11  13]\n",
      " [166 165 166 ... 115 117 116]] (13, 10000)\n"
     ]
    }
   ],
   "source": [
    "data_item=np.load(dataset_path+file)\n",
    "print(data_item, data_item.shape)"
   ]
  },
  {
   "cell_type": "code",
   "execution_count": 6,
   "metadata": {},
   "outputs": [
    {
     "name": "stdout",
     "output_type": "stream",
     "text": [
      "[9. 9. 9. 9. 9. 9. 9. 9. 9. 9. 9. 9. 9.]\n"
     ]
    }
   ],
   "source": [
    "face_data.append(data_item)\n",
    "target=class_id*np.ones((data_item.shape[0], ))\n",
    "print(target)"
   ]
  },
  {
   "cell_type": "code",
   "execution_count": 7,
   "metadata": {},
   "outputs": [
    {
     "name": "stdout",
     "output_type": "stream",
     "text": [
      "[array([[165, 167, 169, ..., 114, 116, 119],\n",
      "       [157, 154, 154, ..., 119, 117, 112],\n",
      "       [157, 154, 157, ...,  42,  64,  78],\n",
      "       ...,\n",
      "       [174, 173, 169, ...,   1,   1,   2],\n",
      "       [166, 168, 171, ...,   9,  11,  13],\n",
      "       [166, 165, 166, ..., 115, 117, 116]], dtype=uint8)]\n",
      "[array([9., 9., 9., 9., 9., 9., 9., 9., 9., 9., 9., 9., 9.])]\n"
     ]
    }
   ],
   "source": [
    "labels.append(target)\n",
    "print(face_data)\n",
    "print(labels)"
   ]
  },
  {
   "cell_type": "code",
   "execution_count": 11,
   "metadata": {},
   "outputs": [
    {
     "name": "stdout",
     "output_type": "stream",
     "text": [
      "[[165 167 169 ... 114 116 119]\n",
      " [157 154 154 ... 119 117 112]\n",
      " [157 154 157 ...  42  64  78]\n",
      " ...\n",
      " [174 173 169 ...   1   1   2]\n",
      " [166 168 171 ...   9  11  13]\n",
      " [166 165 166 ... 115 117 116]] (13, 10000)\n",
      "[[9.]\n",
      " [9.]\n",
      " [9.]\n",
      " [9.]\n",
      " [9.]\n",
      " [9.]\n",
      " [9.]\n",
      " [9.]\n",
      " [9.]\n",
      " [9.]\n",
      " [9.]\n",
      " [9.]\n",
      " [9.]] (13, 1)\n"
     ]
    }
   ],
   "source": [
    "face_dataset=np.concatenate(face_data, axis=0)\n",
    "face_labels=np.concatenate(labels, axis=0).reshape(-1,1)\n",
    "print(face_dataset, face_dataset.shape)\n",
    "print(face_labels, face_labels.shape)"
   ]
  },
  {
   "cell_type": "code",
   "execution_count": 12,
   "metadata": {},
   "outputs": [
    {
     "name": "stdout",
     "output_type": "stream",
     "text": [
      "(13, 10001)\n"
     ]
    }
   ],
   "source": [
    "trainset=np.concatenate((face_dataset, face_labels), axis=1)\n",
    "print(trainset.shape)"
   ]
  },
  {
   "cell_type": "markdown",
   "metadata": {},
   "source": [
    "### For multiple files"
   ]
  },
  {
   "cell_type": "code",
   "execution_count": 19,
   "metadata": {},
   "outputs": [],
   "source": [
    "dataset_path='./Data/'\n",
    "face_data=[]\n",
    "labels=[]\n",
    "names={}\n",
    "class_id=0"
   ]
  },
  {
   "cell_type": "code",
   "execution_count": 20,
   "metadata": {},
   "outputs": [],
   "source": [
    "\n",
    "for file in os.listdir(dataset_path):\n",
    "    if file.endswith('.npy'):\n",
    "        names[class_id]=file[:-4]\n",
    "        data_item=np.load(dataset_path+file)\n",
    "        face_data.append(data_item)\n",
    "        target=class_id*np.ones((data_item.shape[0], ))\n",
    "        labels.append(target)\n",
    "        class_id+=1\n",
    "face_dataset=np.concatenate(face_data, axis=0)\n",
    "face_labels=np.concatenate(labels, axis=0).reshape(-1,1)\n",
    "trainset=np.concatenate((face_dataset, face_labels), axis=1)\n",
    "    "
   ]
  },
  {
   "cell_type": "code",
   "execution_count": 21,
   "metadata": {},
   "outputs": [
    {
     "name": "stdout",
     "output_type": "stream",
     "text": [
      "[array([[215, 216, 216, ...,  87,  87,  86],\n",
      "       [218, 218, 218, ..., 149, 156, 140],\n",
      "       [214, 214, 213, ..., 119, 120, 115],\n",
      "       [207, 209, 210, ..., 110, 112, 114],\n",
      "       [219, 219, 219, ...,  24,  39,  41],\n",
      "       [213, 216, 217, ...,  25,  23,  27]], dtype=uint8), array([[165, 167, 169, ..., 114, 116, 119],\n",
      "       [157, 154, 154, ..., 119, 117, 112],\n",
      "       [157, 154, 157, ...,  42,  64,  78],\n",
      "       ...,\n",
      "       [174, 173, 169, ...,   1,   1,   2],\n",
      "       [166, 168, 171, ...,   9,  11,  13],\n",
      "       [166, 165, 166, ..., 115, 117, 116]], dtype=uint8)]\n"
     ]
    }
   ],
   "source": [
    "print(face_data)"
   ]
  },
  {
   "cell_type": "code",
   "execution_count": 22,
   "metadata": {},
   "outputs": [
    {
     "name": "stdout",
     "output_type": "stream",
     "text": [
      "[array([0., 0., 0., 0., 0., 0.]), array([1., 1., 1., 1., 1., 1., 1., 1., 1., 1., 1., 1., 1.])]\n"
     ]
    }
   ],
   "source": [
    "print(labels)"
   ]
  },
  {
   "cell_type": "code",
   "execution_count": 33,
   "metadata": {},
   "outputs": [
    {
     "name": "stdout",
     "output_type": "stream",
     "text": [
      "[[215. 216. 216. ...  87.  86.   0.]\n",
      " [218. 218. 218. ... 156. 140.   0.]\n",
      " [214. 214. 213. ... 120. 115.   0.]\n",
      " ...\n",
      " [174. 173. 169. ...   1.   2.   1.]\n",
      " [166. 168. 171. ...  11.  13.   1.]\n",
      " [166. 165. 166. ... 117. 116.   1.]]\n"
     ]
    }
   ],
   "source": [
    "print(trainset)"
   ]
  },
  {
   "cell_type": "code",
   "execution_count": 35,
   "metadata": {},
   "outputs": [],
   "source": [
    "distance=lambda x0, x1: np.sqrt(np.sum((x0-x1)**2))\n",
    "def knn(Train, Test, k=7):\n",
    "    X=Train[: , :-1]\n",
    "    Y=Train[: , -1]\n",
    "    m=Y.size\n",
    "    dist=[]\n",
    "    for i in range(m):\n",
    "        d=distance(X[i], Test)\n",
    "        dist.append([d, Y[i]])\n",
    "    dist.sort()\n",
    "    dist=np.array(dist[:k])\n",
    "    vals=np.unique(dist[:, 1], return_counts=True)\n",
    "    index=vals[1].argmax()\n",
    "    pred=vals[0][index]\n",
    "    return pred"
   ]
  },
  {
   "cell_type": "code",
   "execution_count": 36,
   "metadata": {},
   "outputs": [
    {
     "data": {
      "text/plain": [
       "array([[165, 167, 169, ..., 114, 116, 119],\n",
       "       [157, 154, 154, ..., 119, 117, 112],\n",
       "       [157, 154, 157, ...,  42,  64,  78],\n",
       "       ...,\n",
       "       [174, 173, 169, ...,   1,   1,   2],\n",
       "       [166, 168, 171, ...,   9,  11,  13],\n",
       "       [166, 165, 166, ..., 115, 117, 116]], dtype=uint8)"
      ]
     },
     "execution_count": 36,
     "metadata": {},
     "output_type": "execute_result"
    }
   ],
   "source": [
    "data_item"
   ]
  },
  {
   "cell_type": "code",
   "execution_count": 37,
   "metadata": {},
   "outputs": [],
   "source": [
    "out=knn(trainset, data_item)"
   ]
  },
  {
   "cell_type": "code",
   "execution_count": 39,
   "metadata": {},
   "outputs": [
    {
     "data": {
      "text/plain": [
       "'Sanchit'"
      ]
     },
     "execution_count": 39,
     "metadata": {},
     "output_type": "execute_result"
    }
   ],
   "source": [
    "names[out]"
   ]
  },
  {
   "cell_type": "code",
   "execution_count": null,
   "metadata": {},
   "outputs": [],
   "source": []
  }
 ],
 "metadata": {
  "kernelspec": {
   "display_name": "Python 3",
   "language": "python",
   "name": "python3"
  },
  "language_info": {
   "codemirror_mode": {
    "name": "ipython",
    "version": 3
   },
   "file_extension": ".py",
   "mimetype": "text/x-python",
   "name": "python",
   "nbconvert_exporter": "python",
   "pygments_lexer": "ipython3",
   "version": "3.8.0"
  }
 },
 "nbformat": 4,
 "nbformat_minor": 4
}
